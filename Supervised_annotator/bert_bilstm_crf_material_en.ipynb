{
  "nbformat": 4,
  "nbformat_minor": 0,
  "metadata": {
    "colab": {
      "provenance": []
    },
    "kernelspec": {
      "name": "python3",
      "display_name": "Python 3"
    },
    "language_info": {
      "name": "python"
    }
  },
  "cells": [
    {
      "cell_type": "markdown",
      "source": [
        "# Training"
      ],
      "metadata": {
        "id": "bM9wye5JHNom"
      }
    },
    {
      "cell_type": "code",
      "source": [
        "!pip install transformers torch seqeval\n",
        "!pip install pytorch-crf"
      ],
      "metadata": {
        "colab": {
          "base_uri": "https://localhost:8080/"
        },
        "id": "Wgh-w6AyW7Ow",
        "outputId": "8d256b56-6e4f-416b-9d4f-16081cf7158c"
      },
      "execution_count": null,
      "outputs": [
        {
          "output_type": "stream",
          "name": "stdout",
          "text": [
            "Requirement already satisfied: transformers in /usr/local/lib/python3.11/dist-packages (4.51.3)\n",
            "Requirement already satisfied: torch in /usr/local/lib/python3.11/dist-packages (2.6.0+cu124)\n",
            "Collecting seqeval\n",
            "  Downloading seqeval-1.2.2.tar.gz (43 kB)\n",
            "\u001b[2K     \u001b[90m━━━━━━━━━━━━━━━━━━━━━━━━━━━━━━━━━━━━━━━━\u001b[0m \u001b[32m43.6/43.6 kB\u001b[0m \u001b[31m2.0 MB/s\u001b[0m eta \u001b[36m0:00:00\u001b[0m\n",
            "\u001b[?25h  Preparing metadata (setup.py) ... \u001b[?25l\u001b[?25hdone\n",
            "Requirement already satisfied: filelock in /usr/local/lib/python3.11/dist-packages (from transformers) (3.18.0)\n",
            "Requirement already satisfied: huggingface-hub<1.0,>=0.30.0 in /usr/local/lib/python3.11/dist-packages (from transformers) (0.31.2)\n",
            "Requirement already satisfied: numpy>=1.17 in /usr/local/lib/python3.11/dist-packages (from transformers) (2.0.2)\n",
            "Requirement already satisfied: packaging>=20.0 in /usr/local/lib/python3.11/dist-packages (from transformers) (24.2)\n",
            "Requirement already satisfied: pyyaml>=5.1 in /usr/local/lib/python3.11/dist-packages (from transformers) (6.0.2)\n",
            "Requirement already satisfied: regex!=2019.12.17 in /usr/local/lib/python3.11/dist-packages (from transformers) (2024.11.6)\n",
            "Requirement already satisfied: requests in /usr/local/lib/python3.11/dist-packages (from transformers) (2.32.3)\n",
            "Requirement already satisfied: tokenizers<0.22,>=0.21 in /usr/local/lib/python3.11/dist-packages (from transformers) (0.21.1)\n",
            "Requirement already satisfied: safetensors>=0.4.3 in /usr/local/lib/python3.11/dist-packages (from transformers) (0.5.3)\n",
            "Requirement already satisfied: tqdm>=4.27 in /usr/local/lib/python3.11/dist-packages (from transformers) (4.67.1)\n",
            "Requirement already satisfied: typing-extensions>=4.10.0 in /usr/local/lib/python3.11/dist-packages (from torch) (4.13.2)\n",
            "Requirement already satisfied: networkx in /usr/local/lib/python3.11/dist-packages (from torch) (3.4.2)\n",
            "Requirement already satisfied: jinja2 in /usr/local/lib/python3.11/dist-packages (from torch) (3.1.6)\n",
            "Requirement already satisfied: fsspec in /usr/local/lib/python3.11/dist-packages (from torch) (2025.3.2)\n",
            "Collecting nvidia-cuda-nvrtc-cu12==12.4.127 (from torch)\n",
            "  Downloading nvidia_cuda_nvrtc_cu12-12.4.127-py3-none-manylinux2014_x86_64.whl.metadata (1.5 kB)\n",
            "Collecting nvidia-cuda-runtime-cu12==12.4.127 (from torch)\n",
            "  Downloading nvidia_cuda_runtime_cu12-12.4.127-py3-none-manylinux2014_x86_64.whl.metadata (1.5 kB)\n",
            "Collecting nvidia-cuda-cupti-cu12==12.4.127 (from torch)\n",
            "  Downloading nvidia_cuda_cupti_cu12-12.4.127-py3-none-manylinux2014_x86_64.whl.metadata (1.6 kB)\n",
            "Collecting nvidia-cudnn-cu12==9.1.0.70 (from torch)\n",
            "  Downloading nvidia_cudnn_cu12-9.1.0.70-py3-none-manylinux2014_x86_64.whl.metadata (1.6 kB)\n",
            "Collecting nvidia-cublas-cu12==12.4.5.8 (from torch)\n",
            "  Downloading nvidia_cublas_cu12-12.4.5.8-py3-none-manylinux2014_x86_64.whl.metadata (1.5 kB)\n",
            "Collecting nvidia-cufft-cu12==11.2.1.3 (from torch)\n",
            "  Downloading nvidia_cufft_cu12-11.2.1.3-py3-none-manylinux2014_x86_64.whl.metadata (1.5 kB)\n",
            "Collecting nvidia-curand-cu12==10.3.5.147 (from torch)\n",
            "  Downloading nvidia_curand_cu12-10.3.5.147-py3-none-manylinux2014_x86_64.whl.metadata (1.5 kB)\n",
            "Collecting nvidia-cusolver-cu12==11.6.1.9 (from torch)\n",
            "  Downloading nvidia_cusolver_cu12-11.6.1.9-py3-none-manylinux2014_x86_64.whl.metadata (1.6 kB)\n",
            "Collecting nvidia-cusparse-cu12==12.3.1.170 (from torch)\n",
            "  Downloading nvidia_cusparse_cu12-12.3.1.170-py3-none-manylinux2014_x86_64.whl.metadata (1.6 kB)\n",
            "Requirement already satisfied: nvidia-cusparselt-cu12==0.6.2 in /usr/local/lib/python3.11/dist-packages (from torch) (0.6.2)\n",
            "Requirement already satisfied: nvidia-nccl-cu12==2.21.5 in /usr/local/lib/python3.11/dist-packages (from torch) (2.21.5)\n",
            "Requirement already satisfied: nvidia-nvtx-cu12==12.4.127 in /usr/local/lib/python3.11/dist-packages (from torch) (12.4.127)\n",
            "Collecting nvidia-nvjitlink-cu12==12.4.127 (from torch)\n",
            "  Downloading nvidia_nvjitlink_cu12-12.4.127-py3-none-manylinux2014_x86_64.whl.metadata (1.5 kB)\n",
            "Requirement already satisfied: triton==3.2.0 in /usr/local/lib/python3.11/dist-packages (from torch) (3.2.0)\n",
            "Requirement already satisfied: sympy==1.13.1 in /usr/local/lib/python3.11/dist-packages (from torch) (1.13.1)\n",
            "Requirement already satisfied: mpmath<1.4,>=1.1.0 in /usr/local/lib/python3.11/dist-packages (from sympy==1.13.1->torch) (1.3.0)\n",
            "Requirement already satisfied: scikit-learn>=0.21.3 in /usr/local/lib/python3.11/dist-packages (from seqeval) (1.6.1)\n",
            "Requirement already satisfied: scipy>=1.6.0 in /usr/local/lib/python3.11/dist-packages (from scikit-learn>=0.21.3->seqeval) (1.15.3)\n",
            "Requirement already satisfied: joblib>=1.2.0 in /usr/local/lib/python3.11/dist-packages (from scikit-learn>=0.21.3->seqeval) (1.5.0)\n",
            "Requirement already satisfied: threadpoolctl>=3.1.0 in /usr/local/lib/python3.11/dist-packages (from scikit-learn>=0.21.3->seqeval) (3.6.0)\n",
            "Requirement already satisfied: MarkupSafe>=2.0 in /usr/local/lib/python3.11/dist-packages (from jinja2->torch) (3.0.2)\n",
            "Requirement already satisfied: charset-normalizer<4,>=2 in /usr/local/lib/python3.11/dist-packages (from requests->transformers) (3.4.2)\n",
            "Requirement already satisfied: idna<4,>=2.5 in /usr/local/lib/python3.11/dist-packages (from requests->transformers) (3.10)\n",
            "Requirement already satisfied: urllib3<3,>=1.21.1 in /usr/local/lib/python3.11/dist-packages (from requests->transformers) (2.4.0)\n",
            "Requirement already satisfied: certifi>=2017.4.17 in /usr/local/lib/python3.11/dist-packages (from requests->transformers) (2025.4.26)\n",
            "Downloading nvidia_cublas_cu12-12.4.5.8-py3-none-manylinux2014_x86_64.whl (363.4 MB)\n",
            "\u001b[2K   \u001b[90m━━━━━━━━━━━━━━━━━━━━━━━━━━━━━━━━━━━━━━━━\u001b[0m \u001b[32m363.4/363.4 MB\u001b[0m \u001b[31m4.5 MB/s\u001b[0m eta \u001b[36m0:00:00\u001b[0m\n",
            "\u001b[?25hDownloading nvidia_cuda_cupti_cu12-12.4.127-py3-none-manylinux2014_x86_64.whl (13.8 MB)\n",
            "\u001b[2K   \u001b[90m━━━━━━━━━━━━━━━━━━━━━━━━━━━━━━━━━━━━━━━━\u001b[0m \u001b[32m13.8/13.8 MB\u001b[0m \u001b[31m82.5 MB/s\u001b[0m eta \u001b[36m0:00:00\u001b[0m\n",
            "\u001b[?25hDownloading nvidia_cuda_nvrtc_cu12-12.4.127-py3-none-manylinux2014_x86_64.whl (24.6 MB)\n",
            "\u001b[2K   \u001b[90m━━━━━━━━━━━━━━━━━━━━━━━━━━━━━━━━━━━━━━━━\u001b[0m \u001b[32m24.6/24.6 MB\u001b[0m \u001b[31m59.4 MB/s\u001b[0m eta \u001b[36m0:00:00\u001b[0m\n",
            "\u001b[?25hDownloading nvidia_cuda_runtime_cu12-12.4.127-py3-none-manylinux2014_x86_64.whl (883 kB)\n",
            "\u001b[2K   \u001b[90m━━━━━━━━━━━━━━━━━━━━━━━━━━━━━━━━━━━━━━━━\u001b[0m \u001b[32m883.7/883.7 kB\u001b[0m \u001b[31m41.8 MB/s\u001b[0m eta \u001b[36m0:00:00\u001b[0m\n",
            "\u001b[?25hDownloading nvidia_cudnn_cu12-9.1.0.70-py3-none-manylinux2014_x86_64.whl (664.8 MB)\n",
            "\u001b[2K   \u001b[90m━━━━━━━━━━━━━━━━━━━━━━━━━━━━━━━━━━━━━━━━\u001b[0m \u001b[32m664.8/664.8 MB\u001b[0m \u001b[31m1.3 MB/s\u001b[0m eta \u001b[36m0:00:00\u001b[0m\n",
            "\u001b[?25hDownloading nvidia_cufft_cu12-11.2.1.3-py3-none-manylinux2014_x86_64.whl (211.5 MB)\n",
            "\u001b[2K   \u001b[90m━━━━━━━━━━━━━━━━━━━━━━━━━━━━━━━━━━━━━━━━\u001b[0m \u001b[32m211.5/211.5 MB\u001b[0m \u001b[31m6.3 MB/s\u001b[0m eta \u001b[36m0:00:00\u001b[0m\n",
            "\u001b[?25hDownloading nvidia_curand_cu12-10.3.5.147-py3-none-manylinux2014_x86_64.whl (56.3 MB)\n",
            "\u001b[2K   \u001b[90m━━━━━━━━━━━━━━━━━━━━━━━━━━━━━━━━━━━━━━━━\u001b[0m \u001b[32m56.3/56.3 MB\u001b[0m \u001b[31m11.2 MB/s\u001b[0m eta \u001b[36m0:00:00\u001b[0m\n",
            "\u001b[?25hDownloading nvidia_cusolver_cu12-11.6.1.9-py3-none-manylinux2014_x86_64.whl (127.9 MB)\n",
            "\u001b[2K   \u001b[90m━━━━━━━━━━━━━━━━━━━━━━━━━━━━━━━━━━━━━━━━\u001b[0m \u001b[32m127.9/127.9 MB\u001b[0m \u001b[31m7.4 MB/s\u001b[0m eta \u001b[36m0:00:00\u001b[0m\n",
            "\u001b[?25hDownloading nvidia_cusparse_cu12-12.3.1.170-py3-none-manylinux2014_x86_64.whl (207.5 MB)\n",
            "\u001b[2K   \u001b[90m━━━━━━━━━━━━━━━━━━━━━━━━━━━━━━━━━━━━━━━━\u001b[0m \u001b[32m207.5/207.5 MB\u001b[0m \u001b[31m5.3 MB/s\u001b[0m eta \u001b[36m0:00:00\u001b[0m\n",
            "\u001b[?25hDownloading nvidia_nvjitlink_cu12-12.4.127-py3-none-manylinux2014_x86_64.whl (21.1 MB)\n",
            "\u001b[2K   \u001b[90m━━━━━━━━━━━━━━━━━━━━━━━━━━━━━━━━━━━━━━━━\u001b[0m \u001b[32m21.1/21.1 MB\u001b[0m \u001b[31m48.8 MB/s\u001b[0m eta \u001b[36m0:00:00\u001b[0m\n",
            "\u001b[?25hBuilding wheels for collected packages: seqeval\n",
            "  Building wheel for seqeval (setup.py) ... \u001b[?25l\u001b[?25hdone\n",
            "  Created wheel for seqeval: filename=seqeval-1.2.2-py3-none-any.whl size=16162 sha256=061aa3512c6b9d402612eba380d5cd3d0558da4c6425b6660d08833ff4b777cb\n",
            "  Stored in directory: /root/.cache/pip/wheels/bc/92/f0/243288f899c2eacdfa8c5f9aede4c71a9bad0ee26a01dc5ead\n",
            "Successfully built seqeval\n",
            "Installing collected packages: nvidia-nvjitlink-cu12, nvidia-curand-cu12, nvidia-cufft-cu12, nvidia-cuda-runtime-cu12, nvidia-cuda-nvrtc-cu12, nvidia-cuda-cupti-cu12, nvidia-cublas-cu12, nvidia-cusparse-cu12, nvidia-cudnn-cu12, seqeval, nvidia-cusolver-cu12\n",
            "  Attempting uninstall: nvidia-nvjitlink-cu12\n",
            "    Found existing installation: nvidia-nvjitlink-cu12 12.5.82\n",
            "    Uninstalling nvidia-nvjitlink-cu12-12.5.82:\n",
            "      Successfully uninstalled nvidia-nvjitlink-cu12-12.5.82\n",
            "  Attempting uninstall: nvidia-curand-cu12\n",
            "    Found existing installation: nvidia-curand-cu12 10.3.6.82\n",
            "    Uninstalling nvidia-curand-cu12-10.3.6.82:\n",
            "      Successfully uninstalled nvidia-curand-cu12-10.3.6.82\n",
            "  Attempting uninstall: nvidia-cufft-cu12\n",
            "    Found existing installation: nvidia-cufft-cu12 11.2.3.61\n",
            "    Uninstalling nvidia-cufft-cu12-11.2.3.61:\n",
            "      Successfully uninstalled nvidia-cufft-cu12-11.2.3.61\n",
            "  Attempting uninstall: nvidia-cuda-runtime-cu12\n",
            "    Found existing installation: nvidia-cuda-runtime-cu12 12.5.82\n",
            "    Uninstalling nvidia-cuda-runtime-cu12-12.5.82:\n",
            "      Successfully uninstalled nvidia-cuda-runtime-cu12-12.5.82\n",
            "  Attempting uninstall: nvidia-cuda-nvrtc-cu12\n",
            "    Found existing installation: nvidia-cuda-nvrtc-cu12 12.5.82\n",
            "    Uninstalling nvidia-cuda-nvrtc-cu12-12.5.82:\n",
            "      Successfully uninstalled nvidia-cuda-nvrtc-cu12-12.5.82\n",
            "  Attempting uninstall: nvidia-cuda-cupti-cu12\n",
            "    Found existing installation: nvidia-cuda-cupti-cu12 12.5.82\n",
            "    Uninstalling nvidia-cuda-cupti-cu12-12.5.82:\n",
            "      Successfully uninstalled nvidia-cuda-cupti-cu12-12.5.82\n",
            "  Attempting uninstall: nvidia-cublas-cu12\n",
            "    Found existing installation: nvidia-cublas-cu12 12.5.3.2\n",
            "    Uninstalling nvidia-cublas-cu12-12.5.3.2:\n",
            "      Successfully uninstalled nvidia-cublas-cu12-12.5.3.2\n",
            "  Attempting uninstall: nvidia-cusparse-cu12\n",
            "    Found existing installation: nvidia-cusparse-cu12 12.5.1.3\n",
            "    Uninstalling nvidia-cusparse-cu12-12.5.1.3:\n",
            "      Successfully uninstalled nvidia-cusparse-cu12-12.5.1.3\n",
            "  Attempting uninstall: nvidia-cudnn-cu12\n",
            "    Found existing installation: nvidia-cudnn-cu12 9.3.0.75\n",
            "    Uninstalling nvidia-cudnn-cu12-9.3.0.75:\n",
            "      Successfully uninstalled nvidia-cudnn-cu12-9.3.0.75\n",
            "  Attempting uninstall: nvidia-cusolver-cu12\n",
            "    Found existing installation: nvidia-cusolver-cu12 11.6.3.83\n",
            "    Uninstalling nvidia-cusolver-cu12-11.6.3.83:\n",
            "      Successfully uninstalled nvidia-cusolver-cu12-11.6.3.83\n",
            "Successfully installed nvidia-cublas-cu12-12.4.5.8 nvidia-cuda-cupti-cu12-12.4.127 nvidia-cuda-nvrtc-cu12-12.4.127 nvidia-cuda-runtime-cu12-12.4.127 nvidia-cudnn-cu12-9.1.0.70 nvidia-cufft-cu12-11.2.1.3 nvidia-curand-cu12-10.3.5.147 nvidia-cusolver-cu12-11.6.1.9 nvidia-cusparse-cu12-12.3.1.170 nvidia-nvjitlink-cu12-12.4.127 seqeval-1.2.2\n",
            "Collecting pytorch-crf\n",
            "  Downloading pytorch_crf-0.7.2-py3-none-any.whl.metadata (2.4 kB)\n",
            "Downloading pytorch_crf-0.7.2-py3-none-any.whl (9.5 kB)\n",
            "Installing collected packages: pytorch-crf\n",
            "Successfully installed pytorch-crf-0.7.2\n"
          ]
        }
      ]
    },
    {
      "cell_type": "code",
      "source": [
        "import os\n",
        "import csv\n",
        "import torch\n",
        "import torch.nn as nn\n",
        "from torch.utils.data import Dataset, DataLoader\n",
        "from transformers import BertTokenizerFast, BertModel\n",
        "from torchcrf import CRF\n",
        "from seqeval.metrics import classification_report, f1_score\n",
        "import pandas as pd\n",
        "from sklearn.model_selection import train_test_split\n",
        "from tqdm import tqdm\n",
        "import matplotlib.pyplot as plt\n",
        "\n",
        "import zipfile\n",
        "from io import TextIOWrapper\n",
        "\n",
        "from seqeval.metrics import f1_score, classification_report as seqeval_classification_report"
      ],
      "metadata": {
        "id": "zHzl8l_QW3ou"
      },
      "execution_count": null,
      "outputs": []
    },
    {
      "cell_type": "code",
      "source": [
        "\n",
        "\n",
        "# ========== 0. Load TSV from ZIP ==========\n",
        "def load_data_from_zip(zip_path='material_cleaned_tsvs.zip'):\n",
        "    texts = []\n",
        "    bio_labels = []\n",
        "\n",
        "    with zipfile.ZipFile(zip_path, 'r') as z:\n",
        "        tsv_files = sorted([f for f in z.namelist() if f.endswith('.tsv')])\n",
        "\n",
        "        for file_path in tsv_files:\n",
        "            tokens, labels = [], []\n",
        "            with z.open(file_path) as file:\n",
        "                reader = csv.reader(TextIOWrapper(file, 'utf-8'), delimiter='\\t')\n",
        "                for row in reader:\n",
        "                    if len(row) == 2:\n",
        "                        tokens.append(row[0])\n",
        "                        labels.append(row[1])\n",
        "\n",
        "            if tokens and labels and len(tokens) == len(labels):\n",
        "                texts.append(tokens)\n",
        "                bio_labels.append(labels)\n",
        "\n",
        "    return texts, bio_labels\n",
        "\n",
        "# ========== 1. Dataset ==========\n",
        "class TermExtractionDataset(Dataset):\n",
        "    def __init__(self, texts, labels, tokenizer, label2id, max_len=128):\n",
        "        self.texts = texts\n",
        "        self.labels = labels\n",
        "        self.tokenizer = tokenizer\n",
        "        self.label2id = label2id\n",
        "        self.max_len = max_len\n",
        "\n",
        "    def __len__(self):\n",
        "        return len(self.texts)\n",
        "\n",
        "    def __getitem__(self, idx):\n",
        "        tokens, labels = self.texts[idx], self.labels[idx]\n",
        "        encoding = self.tokenizer(tokens,\n",
        "                                  is_split_into_words=True,\n",
        "                                  return_offsets_mapping=True,\n",
        "                                  padding='max_length',\n",
        "                                  truncation=True,\n",
        "                                  max_length=self.max_len,\n",
        "                                  return_tensors='pt')\n",
        "\n",
        "        word_ids = encoding.word_ids(batch_index=0)\n",
        "        label_ids = [-100] * len(word_ids)\n",
        "        prev_word_idx = None\n",
        "\n",
        "        for i, word_idx in enumerate(word_ids):\n",
        "            if word_idx is not None and word_idx < len(labels) and word_idx != prev_word_idx:\n",
        "                label_ids[i] = self.label2id[labels[word_idx]]\n",
        "                prev_word_idx = word_idx\n",
        "\n",
        "        return {\n",
        "            'input_ids': encoding['input_ids'].squeeze(),\n",
        "            'attention_mask': encoding['attention_mask'].squeeze(),\n",
        "            'labels': torch.tensor(label_ids, dtype=torch.long)\n",
        "        }\n",
        "\n",
        "def create_dataloader(texts, labels, tokenizer, label2id, batch_size, max_len=128, shuffle=True):\n",
        "    dataset = TermExtractionDataset(texts, labels, tokenizer, label2id, max_len)\n",
        "    return DataLoader(dataset, batch_size=batch_size, shuffle=shuffle)\n",
        "\n",
        "# ========== 2. Model: BERT + BiLSTM + CRF ==========\n",
        "class BERT_BiLSTM_CRF(nn.Module):\n",
        "    def __init__(self, bert_model_name, hidden_dim, num_labels, dropout_rate=0.1):\n",
        "        super().__init__()\n",
        "        self.bert = BertModel.from_pretrained(bert_model_name)\n",
        "        self.dropout = nn.Dropout(dropout_rate)\n",
        "        self.lstm = nn.LSTM(self.bert.config.hidden_size,\n",
        "                            hidden_dim // 2,\n",
        "                            num_layers=1,\n",
        "                            bidirectional=True,\n",
        "                            batch_first=True)\n",
        "        self.classifier = nn.Linear(hidden_dim, num_labels)\n",
        "        self.crf = CRF(num_labels, batch_first=True)\n",
        "\n",
        "    def forward(self, input_ids, attention_mask, labels=None):\n",
        "        outputs = self.bert(input_ids=input_ids, attention_mask=attention_mask)\n",
        "        x = self.dropout(outputs.last_hidden_state)\n",
        "        x, _ = self.lstm(x)\n",
        "        emissions = self.classifier(x)\n",
        "\n",
        "        if labels is not None:\n",
        "            crf_labels = labels.clone()\n",
        "            crf_labels[crf_labels == -100] = 0\n",
        "            loss = -self.crf(emissions, crf_labels, mask=attention_mask.bool(), reduction='mean')\n",
        "            return loss, emissions\n",
        "        else:\n",
        "            return self.crf.decode(emissions, mask=attention_mask.bool())\n",
        "\n",
        "# ========== 3. Training ==========\n",
        "def train(model, dataloader, optimizer, device):\n",
        "    model.train()\n",
        "    total_loss = 0\n",
        "    for batch in tqdm(dataloader, desc=\"Training\"):\n",
        "        optimizer.zero_grad()\n",
        "        batch = {k: v.to(device) for k, v in batch.items()}\n",
        "        loss, _ = model(batch['input_ids'], batch['attention_mask'], batch['labels'])\n",
        "        loss.backward()\n",
        "        optimizer.step()\n",
        "        total_loss += loss.item()\n",
        "    return total_loss / len(dataloader)\n",
        "\n",
        "# ========== 4. Evaluation ==========\n",
        "def evaluate(model, dataloader, id2label, device):\n",
        "    model.eval()\n",
        "    true_labels, pred_labels = [], []\n",
        "    with torch.no_grad():\n",
        "        for batch in tqdm(dataloader, desc=\"Evaluating\"):\n",
        "            batch = {k: v.to(device) for k, v in batch.items()}\n",
        "            predictions = model(batch['input_ids'], batch['attention_mask'])\n",
        "\n",
        "            for i in range(len(predictions)):\n",
        "                true_seq = []\n",
        "                pred_seq = []\n",
        "                for j in range(len(batch['labels'][i])):\n",
        "                    if batch['labels'][i][j].item() != -100:\n",
        "                        true_seq.append(id2label[batch['labels'][i][j].item()])\n",
        "                        pred_seq.append(id2label[predictions[i][j]])\n",
        "                true_labels.append(true_seq)\n",
        "                pred_labels.append(pred_seq)\n",
        "    return true_labels, pred_labels\n",
        "\n",
        "# ========== 5. Run ==========\n",
        "if __name__ == \"__main__\":\n",
        "    # === Config ===\n",
        "    zip_file = \"material_cleaned_tsvs.zip\"\n",
        "    max_len = 128\n",
        "    batch_size = 32\n",
        "    num_epochs = 15\n",
        "\n",
        "    # === Load data ===\n",
        "    texts, labels = load_data_from_zip(zip_file)\n",
        "    tokenizer = BertTokenizerFast.from_pretrained(\"bert-base-cased\")\n",
        "\n",
        "    unique_labels = sorted(set(label for seq in labels for label in seq))\n",
        "    label2id = {label: i for i, label in enumerate(unique_labels)}\n",
        "    id2label = {i: label for label, i in label2id.items()}\n",
        "    num_labels = len(label2id)\n",
        "\n",
        "    # === Train/Val/Test split ===\n",
        "    train_texts, temp_texts, train_labels, temp_labels = train_test_split(texts, labels, test_size=0.3, random_state=42)\n",
        "    val_texts, test_texts, val_labels, test_labels = train_test_split(temp_texts, temp_labels, test_size=0.5, random_state=42)\n",
        "\n",
        "    train_loader = create_dataloader(train_texts, train_labels, tokenizer, label2id, batch_size, max_len)\n",
        "    val_loader = create_dataloader(val_texts, val_labels, tokenizer, label2id, batch_size, max_len, shuffle=False)\n",
        "    test_loader = create_dataloader(test_texts, test_labels, tokenizer, label2id, batch_size, max_len, shuffle=False)\n",
        "\n",
        "    # === Model ===\n",
        "    device = torch.device(\"cuda\" if torch.cuda.is_available() else \"cpu\")\n",
        "    model = BERT_BiLSTM_CRF(\"bert-base-cased\", hidden_dim=256, num_labels=num_labels).to(device)\n",
        "    optimizer = torch.optim.Adam(model.parameters(), lr=3e-5)\n",
        "\n",
        "    train_losses = []\n",
        "    val_f1_scores = []\n",
        "\n",
        "    # === Train Loop ===\n",
        "    print(\"\\n--- Starting Training ---\")\n",
        "    for epoch in range(num_epochs):\n",
        "        loss = train(model, train_loader, optimizer, device)\n",
        "        train_losses.append(loss)\n",
        "        print(f\"Epoch {epoch + 1}/{num_epochs}, Loss: {loss:.4f}\")\n",
        "\n",
        "        y_true_val, y_pred_val = evaluate(model, val_loader, id2label, device)\n",
        "        val_f1 = f1_score(y_true_val, y_pred_val)\n",
        "        val_f1_scores.append(val_f1)\n",
        "        print(f\"Validation F1-score: {val_f1:.4f}\")\n",
        "\n",
        "    # === Final Test Evaluation ===\n",
        "    print(\"\\n--- Final Evaluation on Test Set ---\")\n",
        "    y_true_test, y_pred_test = evaluate(model, test_loader, id2label, device)\n",
        "    print(\"\\nTest Set Classification Report:\")\n",
        "    print(seqeval_classification_report(y_true_test, y_pred_test))\n",
        "\n",
        "    # === Save Results ===\n",
        "    pd.DataFrame({\n",
        "        \"true_labels\": [' '.join(seq) for seq in y_true_test],\n",
        "        \"predicted_labels\": [' '.join(seq) for seq in y_pred_test]\n",
        "    }).to_csv(\"bert_bilstm_crf_test_results.csv\", index=False)\n",
        "    print(\"Results saved to 'bert_bilstm_crf_test_results.csv'\")\n",
        "\n",
        "    # === Plot Loss & F1 ===\n",
        "    plt.figure(figsize=(10, 5))\n",
        "    plt.subplot(1, 2, 1)\n",
        "    plt.plot(range(1, num_epochs + 1), train_losses, marker='o')\n",
        "    plt.title(\"Training Loss\")\n",
        "    plt.xlabel(\"Epoch\")\n",
        "    plt.ylabel(\"Loss\")\n",
        "\n",
        "    plt.subplot(1, 2, 2)\n",
        "    plt.plot(range(1, num_epochs + 1), val_f1_scores, marker='o')\n",
        "    plt.title(\"Validation F1-score\")\n",
        "    plt.xlabel(\"Epoch\")\n",
        "    plt.ylabel(\"F1-score\")\n",
        "\n",
        "    plt.tight_layout()\n",
        "    plt.show()\n"
      ],
      "metadata": {
        "colab": {
          "base_uri": "https://localhost:8080/",
          "height": 1000
        },
        "id": "96bTYgVz4fXS",
        "outputId": "bf5f9b39-5b7b-4f24-8a96-c2e256641da3"
      },
      "execution_count": null,
      "outputs": [
        {
          "output_type": "stream",
          "name": "stdout",
          "text": [
            "\n",
            "--- Starting Training ---\n"
          ]
        },
        {
          "output_type": "stream",
          "name": "stderr",
          "text": [
            "Training: 100%|██████████| 1/1 [00:10<00:00, 10.36s/it]\n"
          ]
        },
        {
          "output_type": "stream",
          "name": "stdout",
          "text": [
            "Epoch 1/15, Loss: 139.4300\n"
          ]
        },
        {
          "output_type": "stream",
          "name": "stderr",
          "text": [
            "Evaluating: 100%|██████████| 1/1 [00:00<00:00,  1.82it/s]\n"
          ]
        },
        {
          "output_type": "stream",
          "name": "stdout",
          "text": [
            "Validation F1-score: 0.0000\n"
          ]
        },
        {
          "output_type": "stream",
          "name": "stderr",
          "text": [
            "Training: 100%|██████████| 1/1 [00:07<00:00,  7.92s/it]\n"
          ]
        },
        {
          "output_type": "stream",
          "name": "stdout",
          "text": [
            "Epoch 2/15, Loss: 126.8842\n"
          ]
        },
        {
          "output_type": "stream",
          "name": "stderr",
          "text": [
            "Evaluating: 100%|██████████| 1/1 [00:00<00:00,  1.75it/s]\n"
          ]
        },
        {
          "output_type": "stream",
          "name": "stdout",
          "text": [
            "Validation F1-score: 0.0000\n"
          ]
        },
        {
          "output_type": "stream",
          "name": "stderr",
          "text": [
            "Training: 100%|██████████| 1/1 [00:06<00:00,  6.29s/it]\n"
          ]
        },
        {
          "output_type": "stream",
          "name": "stdout",
          "text": [
            "Epoch 3/15, Loss: 117.3463\n"
          ]
        },
        {
          "output_type": "stream",
          "name": "stderr",
          "text": [
            "Evaluating: 100%|██████████| 1/1 [00:00<00:00,  1.87it/s]\n"
          ]
        },
        {
          "output_type": "stream",
          "name": "stdout",
          "text": [
            "Validation F1-score: 0.0000\n"
          ]
        },
        {
          "output_type": "stream",
          "name": "stderr",
          "text": [
            "Training: 100%|██████████| 1/1 [00:07<00:00,  7.66s/it]\n"
          ]
        },
        {
          "output_type": "stream",
          "name": "stdout",
          "text": [
            "Epoch 4/15, Loss: 110.3038\n"
          ]
        },
        {
          "output_type": "stream",
          "name": "stderr",
          "text": [
            "Evaluating: 100%|██████████| 1/1 [00:00<00:00,  1.79it/s]\n"
          ]
        },
        {
          "output_type": "stream",
          "name": "stdout",
          "text": [
            "Validation F1-score: 0.0000\n"
          ]
        },
        {
          "output_type": "stream",
          "name": "stderr",
          "text": [
            "Training: 100%|██████████| 1/1 [00:07<00:00,  7.77s/it]\n"
          ]
        },
        {
          "output_type": "stream",
          "name": "stdout",
          "text": [
            "Epoch 5/15, Loss: 104.2485\n"
          ]
        },
        {
          "output_type": "stream",
          "name": "stderr",
          "text": [
            "Evaluating: 100%|██████████| 1/1 [00:00<00:00,  1.18it/s]\n"
          ]
        },
        {
          "output_type": "stream",
          "name": "stdout",
          "text": [
            "Validation F1-score: 0.0000\n"
          ]
        },
        {
          "output_type": "stream",
          "name": "stderr",
          "text": [
            "Training: 100%|██████████| 1/1 [00:08<00:00,  8.33s/it]\n"
          ]
        },
        {
          "output_type": "stream",
          "name": "stdout",
          "text": [
            "Epoch 6/15, Loss: 100.6008\n"
          ]
        },
        {
          "output_type": "stream",
          "name": "stderr",
          "text": [
            "Evaluating: 100%|██████████| 1/1 [00:00<00:00,  1.93it/s]\n"
          ]
        },
        {
          "output_type": "stream",
          "name": "stdout",
          "text": [
            "Validation F1-score: 0.1538\n"
          ]
        },
        {
          "output_type": "stream",
          "name": "stderr",
          "text": [
            "Training: 100%|██████████| 1/1 [00:08<00:00,  8.61s/it]\n"
          ]
        },
        {
          "output_type": "stream",
          "name": "stdout",
          "text": [
            "Epoch 7/15, Loss: 96.5481\n"
          ]
        },
        {
          "output_type": "stream",
          "name": "stderr",
          "text": [
            "Evaluating: 100%|██████████| 1/1 [00:00<00:00,  1.24it/s]\n"
          ]
        },
        {
          "output_type": "stream",
          "name": "stdout",
          "text": [
            "Validation F1-score: 0.4000\n"
          ]
        },
        {
          "output_type": "stream",
          "name": "stderr",
          "text": [
            "Training: 100%|██████████| 1/1 [00:09<00:00,  9.25s/it]\n"
          ]
        },
        {
          "output_type": "stream",
          "name": "stdout",
          "text": [
            "Epoch 8/15, Loss: 92.8836\n"
          ]
        },
        {
          "output_type": "stream",
          "name": "stderr",
          "text": [
            "Evaluating: 100%|██████████| 1/1 [00:00<00:00,  1.14it/s]\n"
          ]
        },
        {
          "output_type": "stream",
          "name": "stdout",
          "text": [
            "Validation F1-score: 0.5000\n"
          ]
        },
        {
          "output_type": "stream",
          "name": "stderr",
          "text": [
            "Training: 100%|██████████| 1/1 [00:07<00:00,  7.50s/it]\n"
          ]
        },
        {
          "output_type": "stream",
          "name": "stdout",
          "text": [
            "Epoch 9/15, Loss: 88.9775\n"
          ]
        },
        {
          "output_type": "stream",
          "name": "stderr",
          "text": [
            "Evaluating: 100%|██████████| 1/1 [00:00<00:00,  1.74it/s]\n"
          ]
        },
        {
          "output_type": "stream",
          "name": "stdout",
          "text": [
            "Validation F1-score: 0.4706\n"
          ]
        },
        {
          "output_type": "stream",
          "name": "stderr",
          "text": [
            "Training: 100%|██████████| 1/1 [00:07<00:00,  7.74s/it]\n"
          ]
        },
        {
          "output_type": "stream",
          "name": "stdout",
          "text": [
            "Epoch 10/15, Loss: 84.5236\n"
          ]
        },
        {
          "output_type": "stream",
          "name": "stderr",
          "text": [
            "Evaluating: 100%|██████████| 1/1 [00:00<00:00,  1.84it/s]\n"
          ]
        },
        {
          "output_type": "stream",
          "name": "stdout",
          "text": [
            "Validation F1-score: 0.4706\n"
          ]
        },
        {
          "output_type": "stream",
          "name": "stderr",
          "text": [
            "Training: 100%|██████████| 1/1 [00:06<00:00,  6.33s/it]\n"
          ]
        },
        {
          "output_type": "stream",
          "name": "stdout",
          "text": [
            "Epoch 11/15, Loss: 80.6272\n"
          ]
        },
        {
          "output_type": "stream",
          "name": "stderr",
          "text": [
            "Evaluating: 100%|██████████| 1/1 [00:01<00:00,  1.94s/it]\n"
          ]
        },
        {
          "output_type": "stream",
          "name": "stdout",
          "text": [
            "Validation F1-score: 0.4706\n"
          ]
        },
        {
          "output_type": "stream",
          "name": "stderr",
          "text": [
            "Training: 100%|██████████| 1/1 [00:06<00:00,  6.66s/it]\n"
          ]
        },
        {
          "output_type": "stream",
          "name": "stdout",
          "text": [
            "Epoch 12/15, Loss: 75.4024\n"
          ]
        },
        {
          "output_type": "stream",
          "name": "stderr",
          "text": [
            "Evaluating: 100%|██████████| 1/1 [00:00<00:00,  1.89it/s]\n"
          ]
        },
        {
          "output_type": "stream",
          "name": "stdout",
          "text": [
            "Validation F1-score: 0.5263\n"
          ]
        },
        {
          "output_type": "stream",
          "name": "stderr",
          "text": [
            "Training: 100%|██████████| 1/1 [00:07<00:00,  7.66s/it]\n"
          ]
        },
        {
          "output_type": "stream",
          "name": "stdout",
          "text": [
            "Epoch 13/15, Loss: 70.9398\n"
          ]
        },
        {
          "output_type": "stream",
          "name": "stderr",
          "text": [
            "Evaluating: 100%|██████████| 1/1 [00:00<00:00,  1.81it/s]\n"
          ]
        },
        {
          "output_type": "stream",
          "name": "stdout",
          "text": [
            "Validation F1-score: 0.5000\n"
          ]
        },
        {
          "output_type": "stream",
          "name": "stderr",
          "text": [
            "Training: 100%|██████████| 1/1 [00:06<00:00,  6.62s/it]\n"
          ]
        },
        {
          "output_type": "stream",
          "name": "stdout",
          "text": [
            "Epoch 14/15, Loss: 66.7966\n"
          ]
        },
        {
          "output_type": "stream",
          "name": "stderr",
          "text": [
            "Evaluating: 100%|██████████| 1/1 [00:00<00:00,  1.88it/s]\n"
          ]
        },
        {
          "output_type": "stream",
          "name": "stdout",
          "text": [
            "Validation F1-score: 0.5000\n"
          ]
        },
        {
          "output_type": "stream",
          "name": "stderr",
          "text": [
            "Training: 100%|██████████| 1/1 [00:07<00:00,  7.66s/it]\n"
          ]
        },
        {
          "output_type": "stream",
          "name": "stdout",
          "text": [
            "Epoch 15/15, Loss: 63.2766\n"
          ]
        },
        {
          "output_type": "stream",
          "name": "stderr",
          "text": [
            "Evaluating: 100%|██████████| 1/1 [00:00<00:00,  1.86it/s]\n"
          ]
        },
        {
          "output_type": "stream",
          "name": "stdout",
          "text": [
            "Validation F1-score: 0.5455\n",
            "\n",
            "--- Final Evaluation on Test Set ---\n"
          ]
        },
        {
          "output_type": "stream",
          "name": "stderr",
          "text": [
            "Evaluating: 100%|██████████| 1/1 [00:00<00:00,  1.04it/s]\n"
          ]
        },
        {
          "output_type": "stream",
          "name": "stdout",
          "text": [
            "\n",
            "Test Set Classification Report:\n",
            "              precision    recall  f1-score   support\n",
            "\n",
            "           _       0.30      0.34      0.32        44\n",
            "\n",
            "   micro avg       0.30      0.34      0.32        44\n",
            "   macro avg       0.30      0.34      0.32        44\n",
            "weighted avg       0.30      0.34      0.32        44\n",
            "\n",
            "Results saved to 'bert_bilstm_crf_test_results.csv'\n"
          ]
        },
        {
          "output_type": "display_data",
          "data": {
            "text/plain": [
              "<Figure size 1000x500 with 2 Axes>"
            ],
            "image/png": "[encoded data removed]"
          },
          "metadata": {}
        }
      ]
    },
    {
      "cell_type": "code",
      "source": [
        "# ========= 6. Save Model and Inference =========\n",
        "\n",
        "# # Save the trained model\n",
        "# torch.save(model.state_dict(), \"bert_bilstm_crf_model.pt\")\n",
        "# print(\"Model saved to 'bert_bilstm_crf_model.pt'\")\n",
        "\n",
        "# # Load the model for inference (optional step if reloading later)\n",
        "# model.load_state_dict(torch.load(\"bert_bilstm_crf_model.pt\", map_location=device))\n",
        "# model.eval()\n",
        "\n",
        "\n",
        "# # Save the trained model in binary format (.bin)\n",
        "torch.save(model.state_dict(), \"material_bert_bilstm_crf_model.bin\")\n",
        "print(\"Model saved to 'material_bert_bilstm_crf_model.bin'\")\n",
        "\n"
      ],
      "metadata": {
        "colab": {
          "base_uri": "https://localhost:8080/"
        },
        "id": "5ILAJ9cH9gXJ",
        "outputId": "9fc46f68-e1dc-429b-d153-be361958e058"
      },
      "execution_count": null,
      "outputs": [
        {
          "output_type": "stream",
          "name": "stdout",
          "text": [
            "Model saved to 'material_bert_bilstm_crf_model.bin'\n"
          ]
        }
      ]
    },
    {
      "cell_type": "code",
      "source": [
        "# ========= 6. Inference =========\n",
        "\n",
        "def extract_terms(text: str, model, tokenizer, label2id, id2label, device, max_len=128):\n",
        "    model.eval()\n",
        "    tokens = text.strip().split()\n",
        "\n",
        "    encoding = tokenizer(tokens,\n",
        "                         is_split_into_words=True,\n",
        "                         return_offsets_mapping=True,\n",
        "                         padding='max_length',\n",
        "                         truncation=True,\n",
        "                         max_length=max_len,\n",
        "                         return_tensors='pt')\n",
        "\n",
        "    word_ids = encoding.word_ids(batch_index=0)\n",
        "    input_ids = encoding['input_ids'].to(device)\n",
        "    attention_mask = encoding['attention_mask'].to(device)\n",
        "\n",
        "    with torch.no_grad():\n",
        "        predictions = model(input_ids, attention_mask)[0]\n",
        "\n",
        "    labels = [id2label[predictions[i]] for i in range(len(predictions)) if word_ids[i] is not None]\n",
        "\n",
        "    # Rebuild terms based on BIO scheme\n",
        "    terms = []\n",
        "    current_term = []\n",
        "    for token, label in zip(tokens, labels[:len(tokens)]):\n",
        "        if label.startswith(\"B\"):\n",
        "            if current_term:\n",
        "                terms.append(\" \".join(current_term))\n",
        "            current_term = [token]\n",
        "        elif label.startswith(\"I\"):\n",
        "            current_term.append(token)\n",
        "        else:\n",
        "            if current_term:\n",
        "                terms.append(\" \".join(current_term))\n",
        "                current_term = []\n",
        "    if current_term:\n",
        "        terms.append(\" \".join(current_term))\n",
        "\n",
        "    return terms, list(zip(tokens, labels[:len(tokens)]))\n"
      ],
      "metadata": {
        "id": "lpaXM0Q8FZEU"
      },
      "execution_count": null,
      "outputs": []
    },
    {
      "cell_type": "code",
      "source": [
        "sample_text = \"\"\"\n",
        "Materials engineers work with a variety of materials, including metals and alloys; ceramics and glasses; polymers; electronic, magnetic, and optical materials; and composites.\n",
        "They also work with many other emerging materials and processes, such as nanomaterials like graphene and carbon nanotubes (CNTs); biomaterials like artificial tissue and surgical mesh;\n",
        "3D printing materials; specialized sensors; and smart materials.\n",
        "\n",
        "\"\"\"\n",
        "\n",
        "\n",
        "terms, annotated_tokens = extract_terms(\n",
        "    text=sample_text,\n",
        "    model=model,\n",
        "    tokenizer=tokenizer,\n",
        "    label2id=label2id,\n",
        "    id2label=id2label,\n",
        "    device=device\n",
        ")\n",
        "\n",
        "# Print results\n",
        "print(\"\\nExtracted Terms:\")\n",
        "for term in terms:\n",
        "    print(\"-\", term)\n",
        "\n",
        "print(\"\\nToken-Level BIO Annotations:\")\n",
        "for token, label in annotated_tokens:\n",
        "    print(f\"{token:15} {label}\")\n",
        "\n",
        "\n",
        "print(terms)"
      ],
      "metadata": {
        "id": "qmihSDliNJvQ",
        "outputId": "726413fb-e0e7-4a2d-ebf0-30dde8152d12",
        "colab": {
          "base_uri": "https://localhost:8080/"
        }
      },
      "execution_count": null,
      "outputs": [
        {
          "output_type": "stream",
          "name": "stdout",
          "text": [
            "\n",
            "Extracted Terms:\n",
            "- Materials\n",
            "- engineers\n",
            "- and\n",
            "- ceramics\n",
            "- polymers;\n",
            "- magnetic,\n",
            "- optical\n",
            "- materials;\n",
            "- composites.\n",
            "- also\n",
            "- many\n",
            "- other\n",
            "- and\n",
            "- (CNTs);\n",
            "- surgical\n",
            "- mesh;\n",
            "- 3D\n",
            "- printing\n",
            "- materials;\n",
            "- sensors;\n",
            "- and\n",
            "- materials.\n",
            "\n",
            "Token-Level BIO Annotations:\n",
            "Materials       B\n",
            "engineers       B\n",
            "work            O\n",
            "with            O\n",
            "a               O\n",
            "variety         O\n",
            "of              O\n",
            "materials,      O\n",
            "including       O\n",
            "metals          O\n",
            "and             B\n",
            "alloys;         O\n",
            "ceramics        B\n",
            "and             O\n",
            "glasses;        O\n",
            "polymers;       B\n",
            "electronic,     O\n",
            "magnetic,       B\n",
            "and             O\n",
            "optical         B\n",
            "materials;      B\n",
            "and             O\n",
            "composites.     B\n",
            "They            O\n",
            "also            B\n",
            "work            O\n",
            "with            O\n",
            "many            B\n",
            "other           B\n",
            "emerging        O\n",
            "materials       O\n",
            "and             B\n",
            "processes,      O\n",
            "such            O\n",
            "as              O\n",
            "nanomaterials   O\n",
            "like            O\n",
            "graphene        O\n",
            "and             O\n",
            "carbon          O\n",
            "nanotubes       O\n",
            "(CNTs);         B\n",
            "biomaterials    O\n",
            "like            O\n",
            "artificial      O\n",
            "tissue          O\n",
            "and             O\n",
            "surgical        B\n",
            "mesh;           B\n",
            "3D              B\n",
            "printing        B\n",
            "materials;      B\n",
            "specialized     O\n",
            "sensors;        B\n",
            "and             B\n",
            "smart           O\n",
            "materials.      B\n",
            "['Materials', 'engineers', 'and', 'ceramics', 'polymers;', 'magnetic,', 'optical', 'materials;', 'composites.', 'also', 'many', 'other', 'and', '(CNTs);', 'surgical', 'mesh;', '3D', 'printing', 'materials;', 'sensors;', 'and', 'materials.']\n"
          ]
        }
      ]
    },
    {
      "cell_type": "markdown",
      "source": [
        "# **Load from saved model**"
      ],
      "metadata": {
        "id": "Rhcpfjzior4X"
      }
    },
    {
      "cell_type": "code",
      "source": [
        "import torch\n",
        "import torch.nn as nn\n",
        "from transformers import BertTokenizerFast, BertModel\n",
        "from torchcrf import CRF\n",
        "import os\n",
        "import string\n",
        "\n",
        "# === Label mappings (same as training)\n",
        "label2id = {'B': 0, 'I': 1, 'O': 2}\n",
        "id2label = {v: k for k, v in label2id.items()}\n",
        "\n",
        "\n",
        "# === Model Definition ===\n",
        "class BERT_BiLSTM_CRF(nn.Module):\n",
        "    def __init__(self, bert_model_name, hidden_dim, num_labels, dropout_rate=0.1):\n",
        "        super().__init__()\n",
        "        self.bert = BertModel.from_pretrained(bert_model_name)\n",
        "        self.dropout = nn.Dropout(dropout_rate)\n",
        "        self.lstm = nn.LSTM(self.bert.config.hidden_size,\n",
        "                            hidden_dim // 2,\n",
        "                            num_layers=1,\n",
        "                            bidirectional=True,\n",
        "                            batch_first=True)\n",
        "        self.classifier = nn.Linear(hidden_dim, num_labels)\n",
        "        self.crf = CRF(num_labels, batch_first=True)\n",
        "\n",
        "    def forward(self, input_ids, attention_mask, labels=None):\n",
        "        outputs = self.bert(input_ids=input_ids, attention_mask=attention_mask)\n",
        "        x = self.dropout(outputs.last_hidden_state)\n",
        "        x, _ = self.lstm(x)\n",
        "        emissions = self.classifier(x)\n",
        "\n",
        "        if labels is not None:\n",
        "            crf_labels = labels.clone()\n",
        "            crf_labels[crf_labels == -100] = 0\n",
        "            loss = -self.crf(emissions, crf_labels, mask=attention_mask.bool(), reduction='mean')\n",
        "            return loss, emissions\n",
        "        else:\n",
        "            return self.crf.decode(emissions, mask=attention_mask.bool())\n",
        "\n",
        "\n",
        "# === Load model and tokenizer ===\n",
        "device = torch.device(\"cuda\" if torch.cuda.is_available() else \"cpu\")\n",
        "\n",
        "model = BERT_BiLSTM_CRF(\"bert-base-cased\", hidden_dim=256, num_labels=len(label2id)).to(device)\n",
        "model.load_state_dict(torch.load(\"material_bert_bilstm_crf_model.bin\", map_location=device))\n",
        "model.eval()\n",
        "\n",
        "tokenizer = BertTokenizerFast.from_pretrained(\"bert-base-cased\")\n",
        "\n",
        "\n",
        "# === Term extraction function ===\n",
        "def extract_terms(text, model, tokenizer, label2id, id2label, device):\n",
        "    words = text.strip().split()\n",
        "    encoding = tokenizer(words,\n",
        "                         is_split_into_words=True,\n",
        "                         return_offsets_mapping=True,\n",
        "                         return_tensors='pt',\n",
        "                         truncation=True,\n",
        "                         padding='max_length',\n",
        "                         max_length=128)\n",
        "\n",
        "    input_ids = encoding['input_ids'].to(device)\n",
        "    attention_mask = encoding['attention_mask'].to(device)\n",
        "    word_ids = encoding.word_ids()\n",
        "\n",
        "    with torch.no_grad():\n",
        "        predictions = model(input_ids, attention_mask)\n",
        "\n",
        "    pred_labels = [id2label[pred] for pred in predictions[0]]  # single sequence\n",
        "\n",
        "    # Map back to words using word_ids\n",
        "    annotated_tokens = []\n",
        "    used_word_ids = set()\n",
        "    for i, word_idx in enumerate(word_ids):\n",
        "        if word_idx is not None and word_idx not in used_word_ids:\n",
        "            word = words[word_idx]\n",
        "            label = pred_labels[i]\n",
        "            annotated_tokens.append((word, label))\n",
        "            used_word_ids.add(word_idx)\n",
        "\n",
        "    # Extract terms\n",
        "    terms = []\n",
        "    current_term = []\n",
        "    for token, label in annotated_tokens:\n",
        "        if label == \"B\":\n",
        "            if current_term:\n",
        "                terms.append(\" \".join(current_term))\n",
        "                current_term = []\n",
        "            current_term.append(token)\n",
        "        elif label == \"I\":\n",
        "            current_term.append(token)\n",
        "        else:\n",
        "            if current_term:\n",
        "                terms.append(\" \".join(current_term))\n",
        "                current_term = []\n",
        "    if current_term:\n",
        "        terms.append(\" \".join(current_term))\n",
        "\n",
        "    # Strip punctuation from extracted terms\n",
        "    cleaned_terms = [\"\".join(char for char in term if char not in string.punctuation) for term in terms]\n",
        "    cleaned_terms = [term for term in cleaned_terms if term] # Remove any empty strings after stripping\n",
        "\n",
        "    return cleaned_terms, annotated_tokens\n",
        "\n",
        "\n",
        "\n",
        "\n",
        "sample_text = \"\"\"\n",
        "Materials engineers work with a variety of materials, including metals and alloys; ceramics and glasses; polymers; electronic, magnetic, and optical materials; and composites.\n",
        "They also work with many other emerging materials and processes, such as nanomaterials like graphene and carbon nanotubes (CNTs); biomaterials like artificial tissue and surgical mesh;\n",
        "3D printing materials; specialized sensors; and smart materials.\n",
        "\n",
        "\"\"\"\n",
        "\n",
        "terms, annotated_tokens = extract_terms(\n",
        "    text=sample_text,\n",
        "    model=model,\n",
        "    tokenizer=tokenizer,\n",
        "    label2id=label2id,\n",
        "    id2label=id2label,\n",
        "    device=device\n",
        ")\n",
        "\n",
        "print(sorted(set(terms)))"
      ],
      "metadata": {
        "colab": {
          "base_uri": "https://localhost:8080/"
        },
        "id": "PdIBIaYtosc4",
        "outputId": "eef71d0a-adf1-4106-f6a7-6321c0dce2d3"
      },
      "execution_count": null,
      "outputs": [
        {
          "output_type": "stream",
          "name": "stdout",
          "text": [
            "['3D', 'Materials', 'alloys', 'biomaterials', 'carbon', 'ceramics', 'composites', 'electronic', 'engineers', 'glasses', 'graphene', 'magnetic', 'materials', 'mesh', 'metals', 'nanomaterials', 'nanotubes', 'optical', 'polymers', 'printing', 'tissue']\n"
          ]
        }
      ]
    },
    {
      "cell_type": "code",
      "source": [
        "\n",
        "\n",
        "\n",
        "sample_text = \"\"\"\n",
        "As material physicists we do not focus on optimizing a material for a desired application. Primarily, we would like to understand fundamental behaviour of materials.\n",
        "Nevertheless, all our investigations are related to important applications: Metallization in microelectronics, material function in chemical and magnetic sensors,\n",
        "thin film solar cells, or solid state batteries, just to name a few examples.\n",
        "\"\"\"\n",
        "\n",
        "terms, annotated_tokens = extract_terms(\n",
        "    text=sample_text,\n",
        "    model=model,\n",
        "    tokenizer=tokenizer,\n",
        "    label2id=label2id,\n",
        "    id2label=id2label,\n",
        "    device=device\n",
        ")\n",
        "\n",
        "print(set(terms))"
      ],
      "metadata": {
        "id": "XZJCPzDqw_w_",
        "colab": {
          "base_uri": "https://localhost:8080/"
        },
        "outputId": "bf9a3a31-0991-4789-fb95-b8ceb5d86f0d"
      },
      "execution_count": null,
      "outputs": [
        {
          "output_type": "stream",
          "name": "stdout",
          "text": [
            "{'material', 'physicists', 'thin', 'film', 'Metallization', 'solar', 'state', 'batteries', 'magnetic', 'cells', 'sensors', 'microelectronics', 'materials', 'solid', 'chemical'}\n"
          ]
        }
      ]
    }
  ]
}
